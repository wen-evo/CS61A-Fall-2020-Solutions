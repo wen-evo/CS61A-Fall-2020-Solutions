{
 "cells": [
  {
   "cell_type": "code",
   "execution_count": 38,
   "metadata": {},
   "outputs": [
    {
     "data": {
      "text/plain": [
       "(15, 30)"
      ]
     },
     "execution_count": 38,
     "metadata": {},
     "output_type": "execute_result"
    }
   ],
   "source": [
    "import hog\n",
    "always_three = hog.make_test_dice(3)\n",
    "always = hog.always_roll\n",
    "s0, s1 = hog.play(always(5), always(5), goal=25, dice=always_three)\n",
    "s0, s1"
   ]
  },
  {
   "cell_type": "code",
   "execution_count": 39,
   "metadata": {},
   "outputs": [
    {
     "data": {
      "text/plain": [
       "(15, 30)"
      ]
     },
     "execution_count": 39,
     "metadata": {},
     "output_type": "execute_result"
    }
   ],
   "source": [
    "always_three = hog.make_test_dice(3)\n",
    "always = hog.always_roll\n",
    "s0, s1 = hog.play(always(5), always(5), goal=25, dice=always_three)\n",
    "s0, s1"
   ]
  },
  {
   "cell_type": "code",
   "execution_count": 40,
   "metadata": {},
   "outputs": [
    {
     "data": {
      "text/plain": [
       "1"
      ]
     },
     "execution_count": 40,
     "metadata": {},
     "output_type": "execute_result"
    }
   ],
   "source": [
    "from hog import *\n",
    "counted_dice = make_test_dice(4, 1, 2, 6)\n",
    "roll_dice(1, counted_dice)\n",
    "roll_dice(7, make_test_dice(2, 2, 2, 2, 2, 2, 1))"
   ]
  },
  {
   "cell_type": "code",
   "execution_count": 3,
   "metadata": {},
   "outputs": [
    {
     "name": "stdout",
     "output_type": "stream",
     "text": [
      "10\n",
      "20\n"
     ]
    },
    {
     "data": {
      "text/plain": [
       "<function __main__.f(x)>"
      ]
     },
     "execution_count": 3,
     "metadata": {},
     "output_type": "execute_result"
    }
   ],
   "source": [
    "def f(x):\n",
    "    print(x)\n",
    "    return f\n",
    "\n",
    "f = f(10)\n",
    "f(20)"
   ]
  },
  {
   "cell_type": "code",
   "execution_count": 46,
   "metadata": {},
   "outputs": [
    {
     "data": {
      "text/plain": [
       "(16, 12)"
      ]
     },
     "execution_count": 46,
     "metadata": {},
     "output_type": "execute_result"
    }
   ],
   "source": [
    "hog.play(lambda x, y: 1-y//10, lambda x, y: 3, dice=hog.make_test_dice(4, 2, 6), goal=15)"
   ]
  },
  {
   "cell_type": "code",
   "execution_count": 27,
   "metadata": {},
   "outputs": [
    {
     "name": "stdout",
     "output_type": "stream",
     "text": [
      "Player 0 takes the lead by 5\n",
      "last leader = None\n",
      "Player 1 takes the lead by 7\n",
      "last leader = 0\n",
      "last leader = 1\n",
      "last leader = 1\n",
      "Player 0 takes the lead by 2\n",
      "last leader = 1\n"
     ]
    }
   ],
   "source": [
    "def announce_lead_changes(last_leader=None):\n",
    "    \"\"\"Return a commentary function that announces lead changes.\n",
    "\n",
    "    >>> f0 = announce_lead_changes()\n",
    "    >>> f1 = f0(5, 0)\n",
    "    Player 0 takes the lead by 5\n",
    "    >>> f2 = f1(5, 12)\n",
    "    Player 1 takes the lead by 7\n",
    "    >>> f3 = f2(8, 12)\n",
    "    >>> f4 = f3(8, 13)\n",
    "    >>> f5 = f4(15, 13)\n",
    "    Player 0 takes the lead by 2\n",
    "    \"\"\"\n",
    "    def say(score0, score1):\n",
    "        if score0 > score1:\n",
    "            leader = 0\n",
    "        elif score1 > score0:\n",
    "            leader = 1\n",
    "        else:\n",
    "            leader = None\n",
    "        if leader != None and leader != last_leader:\n",
    "            print('Player', leader, 'takes the lead by', abs(score0 - score1))\n",
    "        \n",
    "        print(f\"last leader = {last_leader}\")\n",
    "        return announce_lead_changes(leader)\n",
    "    return say\n",
    "\n",
    "f0 = announce_lead_changes() # f0 -> func. say\n",
    "f1 = f0(5, 0) # f1 -> func announce_lead_changes()\n",
    "f2 = f1(5, 12)\n",
    "f3 = f2(8, 12)\n",
    "f4 = f3(8, 13)\n",
    "f5 = f4(15, 13)"
   ]
  },
  {
   "cell_type": "code",
   "execution_count": 28,
   "metadata": {},
   "outputs": [
    {
     "name": "stdout",
     "output_type": "stream",
     "text": [
      "Player 0 takes the lead by 5\n",
      "last leader = None\n",
      "Player 1 takes the lead by 7\n",
      "last leader = 0\n",
      "last leader = 1\n",
      "last leader = 1\n",
      "Player 0 takes the lead by 2\n",
      "last leader = 1\n"
     ]
    }
   ],
   "source": [
    "class Announce:\n",
    "    def __init__(self, last_leader=None) -> None:\n",
    "        self.last_leader = last_leader\n",
    "        self.leader = None\n",
    "    def say(self, score0, score1):\n",
    "        self.last_leader = self.leader\n",
    "        if score0 > score1:\n",
    "            self.leader = 0\n",
    "        elif score1 > score0:\n",
    "            self.leader = 1\n",
    "        else:\n",
    "            self.leader = None\n",
    "        if self.leader != None and self.leader != self.last_leader:\n",
    "            print('Player', self.leader, 'takes the lead by', abs(score0 - score1))\n",
    "        print(f\"last leader = {self.last_leader}\")\n",
    "\n",
    "\n",
    "announce = Announce()\n",
    "announce.say(5, 0)\n",
    "announce.say(5, 12)\n",
    "announce.say(8, 12)\n",
    "announce.say(8, 13)\n",
    "announce.say(15, 13)"
   ]
  },
  {
   "cell_type": "code",
   "execution_count": 33,
   "metadata": {},
   "outputs": [
    {
     "name": "stdout",
     "output_type": "stream",
     "text": [
      "Player 0 now has 10 and Player 1 now has 0\n",
      "Player 0 takes the lead by 10\n",
      "last leader = None\n",
      "Player 0 now has 10 and Player 1 now has 8\n",
      "last leader = 0\n"
     ]
    },
    {
     "data": {
      "text/plain": [
       "(<function __main__.both.<locals>.say(score0, score1)>,\n",
       " <function __main__.both.<locals>.say(score0, score1)>,\n",
       " <function __main__.both.<locals>.say(score0, score1)>)"
      ]
     },
     "execution_count": 33,
     "metadata": {},
     "output_type": "execute_result"
    }
   ],
   "source": [
    "def say_scores(score0, score1):\n",
    "    \"\"\"A commentary function that announces the score for each player.\"\"\"\n",
    "    print(\"Player 0 now has\", score0, \"and Player 1 now has\", score1)\n",
    "    return say_scores\n",
    "\n",
    "def both(f, g):\n",
    "    \"\"\"Return a commentary function that says what f says, then what g says.\n",
    "\n",
    "    NOTE: the following game is not possible under the rules, it's just\n",
    "    an example for the sake of the doctest\n",
    "\n",
    "    >>> h0 = both(say_scores, announce_lead_changes())\n",
    "    >>> h1 = h0(10, 0)\n",
    "    Player 0 now has 10 and Player 1 now has 0\n",
    "    Player 0 takes the lead by 10\n",
    "    >>> h2 = h1(10, 8)\n",
    "    Player 0 now has 10 and Player 1 now has 8\n",
    "    >>> h3 = h2(10, 17)\n",
    "    Player 0 now has 10 and Player 1 now has 17\n",
    "    Player 1 takes the lead by 7\n",
    "    \"\"\"\n",
    "    def say(score0, score1):\n",
    "        return both(f(score0, score1), g(score0, score1))\n",
    "    return say\n",
    "\n",
    "h0 = both(say_scores, announce_lead_changes())\n",
    "h1 = h0(10, 0)\n",
    "h2 = h1(10, 8)\n",
    "h0, h1, h2"
   ]
  },
  {
   "cell_type": "code",
   "execution_count": 37,
   "metadata": {},
   "outputs": [
    {
     "data": {
      "text/plain": [
       "0"
      ]
     },
     "execution_count": 37,
     "metadata": {},
     "output_type": "execute_result"
    }
   ],
   "source": [
    "1 - 12 // 10"
   ]
  },
  {
   "cell_type": "code",
   "execution_count": 1,
   "metadata": {},
   "outputs": [
    {
     "data": {
      "text/plain": [
       "1"
      ]
     },
     "execution_count": 1,
     "metadata": {},
     "output_type": "execute_result"
    }
   ],
   "source": [
    "from hog import *\n",
    "dice = make_test_dice(3, 1, 5, 6)\n",
    "roll_dice(2, dice)"
   ]
  },
  {
   "cell_type": "code",
   "execution_count": 2,
   "metadata": {},
   "outputs": [
    {
     "data": {
      "text/plain": [
       "4"
      ]
     },
     "execution_count": 2,
     "metadata": {},
     "output_type": "execute_result"
    }
   ],
   "source": [
    "free_bacon(1)"
   ]
  },
  {
   "cell_type": "code",
   "execution_count": 6,
   "metadata": {},
   "outputs": [
    {
     "data": {
      "text/plain": [
       "0"
      ]
     },
     "execution_count": 6,
     "metadata": {},
     "output_type": "execute_result"
    }
   ],
   "source": [
    "extra_turn_strategy(10, 19, cutoff=8, num_rolls=6)\n",
    "extra_turn_strategy(30, 54, cutoff=7, num_rolls=6)\n",
    "extra_turn_strategy(17, 36, cutoff=100, num_rolls=6)\n",
    "extra_turn_strategy(24, 5, cutoff=1, num_rolls=6)"
   ]
  },
  {
   "cell_type": "code",
   "execution_count": 9,
   "metadata": {},
   "outputs": [
    {
     "data": {
      "text/plain": [
       "3.5"
      ]
     },
     "execution_count": 9,
     "metadata": {},
     "output_type": "execute_result"
    }
   ],
   "source": [
    "sum(range(1, 7)) / 6"
   ]
  },
  {
   "cell_type": "code",
   "execution_count": 18,
   "metadata": {},
   "outputs": [
    {
     "data": {
      "text/plain": [
       "(83, 108)"
      ]
     },
     "execution_count": 18,
     "metadata": {},
     "output_type": "execute_result"
    }
   ],
   "source": [
    "import hog\n",
    "always_three = hog.make_test_dice(3)\n",
    "always_seven = hog.make_test_dice(7)\n",
    "strat0 = lambda score, opponent: opponent % 10\n",
    "strat1 = lambda score, opponent: max((score // 10) - 4, 0)\n",
    "s0, s1 = hog.play(strat0, strat1, score0=71, score1=80, dice=always_seven)\n",
    "s0, s1"
   ]
  },
  {
   "cell_type": "code",
   "execution_count": 20,
   "metadata": {},
   "outputs": [
    {
     "name": "stdout",
     "output_type": "stream",
     "text": [
      "* 2\n",
      "** 0\n",
      "* 2\n",
      "** 2\n",
      "* 4\n",
      "** 2\n"
     ]
    }
   ],
   "source": [
    "from dice import make_test_dice\n",
    "def echo_0(s0, s1):\n",
    "    print('*', s0)\n",
    "    return echo_0\n",
    "def echo_1(s0, s1):\n",
    "    print('**', s1)\n",
    "    return echo_1\n",
    "s0, s1 = play(always_roll(1), always_roll(1), dice=make_test_dice(2), goal=3, say=both(echo_0, echo_1))"
   ]
  },
  {
   "cell_type": "code",
   "execution_count": 23,
   "metadata": {},
   "outputs": [
    {
     "data": {
      "text/plain": [
       "5"
      ]
     },
     "execution_count": 23,
     "metadata": {},
     "output_type": "execute_result"
    }
   ],
   "source": [
    "def search(f):\n",
    "    i = 0\n",
    "    while True:\n",
    "        if f(i):\n",
    "            return i\n",
    "        i += 1\n",
    "\n",
    "\n",
    "def my_sqrt(y):\n",
    "    def is_square_of_y(x):\n",
    "        return x**2 == y\n",
    "    return search(is_square_of_y)\n",
    "\n",
    "\n",
    "my_sqrt(25)"
   ]
  },
  {
   "cell_type": "code",
   "execution_count": 25,
   "metadata": {},
   "outputs": [
    {
     "data": {
      "text/plain": [
       "4"
      ]
     },
     "execution_count": 25,
     "metadata": {},
     "output_type": "execute_result"
    }
   ],
   "source": [
    "def my_sqrt2(y):\n",
    "    x = 0\n",
    "    while True:\n",
    "        if x**2 == y:\n",
    "            return x\n",
    "        x += 1\n",
    "        \n",
    "\n",
    "my_sqrt2(16)"
   ]
  },
  {
   "cell_type": "code",
   "execution_count": 10,
   "metadata": {},
   "outputs": [
    {
     "data": {
      "text/plain": [
       "6"
      ]
     },
     "execution_count": 10,
     "metadata": {},
     "output_type": "execute_result"
    }
   ],
   "source": [
    "def count_cond(condition):\n",
    "    \"\"\"Returns a function with one parameter N that counts all the numbers from\n",
    "    1 to N that satisfy the two-argument predicate function Condition, where\n",
    "    the first argument for Condition is N and the second argument is the\n",
    "    number from 1 to N.\n",
    "\n",
    "    >>> count_factors = count_cond(lambda n, i: n % i == 0)\n",
    "    >>> count_factors(2)   # 1, 2\n",
    "    2\n",
    "    >>> count_factors(4)   # 1, 2, 4\n",
    "    3\n",
    "    >>> count_factors(12)  # 1, 2, 3, 4, 6, 12\n",
    "    6\n",
    "\n",
    "    >>> is_prime = lambda n, i: count_factors(i) == 2\n",
    "    >>> count_primes = count_cond(is_prime)\n",
    "    >>> count_primes(2)    # 2\n",
    "    1\n",
    "    >>> count_primes(3)    # 2, 3\n",
    "    2\n",
    "    >>> count_primes(4)    # 2, 3\n",
    "    2\n",
    "    >>> count_primes(5)    # 2, 3, 5\n",
    "    3\n",
    "    >>> count_primes(20)   # 2, 3, 5, 7, 11, 13, 17, 19\n",
    "    8\n",
    "    \"\"\"\n",
    "    \"*** YOUR CODE HERE ***\"\n",
    "    def func(n):\n",
    "        count = 0\n",
    "        for i in range(1, n+1):\n",
    "            if condition(n, i):\n",
    "                count += 1\n",
    "        return count\n",
    "    return func\n",
    "\n",
    "\n",
    "count_factors = count_cond(lambda n, i: n % i == 0)\n",
    "count_factors(12)   # 1, 2"
   ]
  },
  {
   "cell_type": "code",
   "execution_count": 13,
   "metadata": {},
   "outputs": [
    {
     "data": {
      "text/plain": [
       "21"
      ]
     },
     "execution_count": 13,
     "metadata": {},
     "output_type": "execute_result"
    }
   ],
   "source": [
    "a = lambda x: x * 2 + 1\n",
    "def b(b, x):\n",
    "    return b(x + a(x))\n",
    "x = 3\n",
    "b(a, x)"
   ]
  },
  {
   "cell_type": "code",
   "execution_count": 15,
   "metadata": {},
   "outputs": [
    {
     "name": "stdout",
     "output_type": "stream",
     "text": [
      "beets\n",
      "sweets\n"
     ]
    },
    {
     "data": {
      "text/plain": [
       "'cake'"
      ]
     },
     "execution_count": 15,
     "metadata": {},
     "output_type": "execute_result"
    }
   ],
   "source": [
    "def cake():\n",
    "   print('beets')\n",
    "   def pie():\n",
    "       print('sweets')\n",
    "       return 'cake'\n",
    "   return pie\n",
    "chocolate = cake()\n",
    "chocolate()"
   ]
  },
  {
   "cell_type": "code",
   "execution_count": 27,
   "metadata": {},
   "outputs": [
    {
     "name": "stdout",
     "output_type": "stream",
     "text": [
      "My n is 4\n",
      "My n is 1\n"
     ]
    },
    {
     "data": {
      "text/plain": [
       "10"
      ]
     },
     "execution_count": 27,
     "metadata": {},
     "output_type": "execute_result"
    }
   ],
   "source": [
    "def add1(x):\n",
    "    return x + 1\n",
    "def times2(x):\n",
    "    return x * 2\n",
    "def add3(x):\n",
    "    return x + 3\n",
    "\n",
    "def cycle(f1, f2, f3):\n",
    "    \"\"\"Returns a function that is itself a higher-order function.\n",
    "\n",
    "    >>> def add1(x):\n",
    "    ...     return x + 1\n",
    "    >>> def times2(x):\n",
    "    ...     return x * 2\n",
    "    >>> def add3(x):\n",
    "    ...     return x + 3\n",
    "    >>> my_cycle = cycle(add1, times2, add3)\n",
    "    >>> identity = my_cycle(0)\n",
    "    >>> identity(5)\n",
    "    5\n",
    "    >>> add_one_then_double = my_cycle(2)\n",
    "    >>> add_one_then_double(1)\n",
    "    4\n",
    "    >>> do_all_functions = my_cycle(3)\n",
    "    >>> do_all_functions(2)\n",
    "    9\n",
    "    >>> do_more_than_a_cycle = my_cycle(4)\n",
    "    >>> do_more_than_a_cycle(2)\n",
    "    10\n",
    "    >>> do_two_cycles = my_cycle(6)\n",
    "    >>> do_two_cycles(1)\n",
    "    19\n",
    "    \"\"\"\n",
    "    \"*** YOUR CODE HERE ***\"\n",
    "    \n",
    "    def first_func(n):\n",
    "        def second_func(x):\n",
    "            nonlocal n\n",
    "            if n == 0:\n",
    "                return x\n",
    "            elif n == 1:\n",
    "                return f1(x)\n",
    "            elif n == 2:\n",
    "                return f2(f1(x))\n",
    "            elif n == 3:\n",
    "                return f3(f2(f1(x)))\n",
    "            else:\n",
    "                # n >= 4\n",
    "                x = f3(f2(f1(x)))\n",
    "                n -= 3\n",
    "                return second_func(x)\n",
    "        return second_func\n",
    "    return first_func\n",
    "\n",
    "my_cycle = cycle(add1, times2, add3)\n",
    "add_one_then_double = my_cycle(4)\n",
    "add_one_then_double(2)\n"
   ]
  },
  {
   "cell_type": "code",
   "execution_count": 28,
   "metadata": {},
   "outputs": [
    {
     "data": {
      "text/plain": [
       "10"
      ]
     },
     "execution_count": 28,
     "metadata": {},
     "output_type": "execute_result"
    }
   ],
   "source": [
    "def add1(x):\n",
    "    return x + 1\n",
    "def times2(x):\n",
    "    return x * 2\n",
    "def add3(x):\n",
    "    return x + 3\n",
    "\n",
    "def cycle(f1, f2, f3):\n",
    "    \"\"\"Returns a function that is itself a higher-order function.\n",
    "\n",
    "    >>> def add1(x):\n",
    "    ...     return x + 1\n",
    "    >>> def times2(x):\n",
    "    ...     return x * 2\n",
    "    >>> def add3(x):\n",
    "    ...     return x + 3\n",
    "    >>> my_cycle = cycle(add1, times2, add3)\n",
    "    >>> identity = my_cycle(0)\n",
    "    >>> identity(5)\n",
    "    5\n",
    "    >>> add_one_then_double = my_cycle(2)\n",
    "    >>> add_one_then_double(1)\n",
    "    4\n",
    "    >>> do_all_functions = my_cycle(3)\n",
    "    >>> do_all_functions(2)\n",
    "    9\n",
    "    >>> do_more_than_a_cycle = my_cycle(4)\n",
    "    >>> do_more_than_a_cycle(2)\n",
    "    10\n",
    "    >>> do_two_cycles = my_cycle(6)\n",
    "    >>> do_two_cycles(1)\n",
    "    19\n",
    "    \"\"\"\n",
    "    \"*** YOUR CODE HERE ***\"\n",
    "    \n",
    "    def first_func(n):\n",
    "        def second_func(x):\n",
    "            n_local = n\n",
    "            while n_local >= 4:\n",
    "                x = f3(f2(f1(x)))\n",
    "                n_local -= 3\n",
    "            if n_local == 0:\n",
    "                return x\n",
    "            elif n_local == 1:\n",
    "                return f1(x)\n",
    "            elif n_local == 2:\n",
    "                return f2(f1(x))\n",
    "            elif n_local == 3:\n",
    "                return f3(f2(f1(x)))\n",
    "        return second_func\n",
    "    return first_func\n",
    "\n",
    "my_cycle = cycle(add1, times2, add3)\n",
    "add_one_then_double = my_cycle(4)\n",
    "add_one_then_double(2)\n"
   ]
  },
  {
   "cell_type": "code",
   "execution_count": null,
   "metadata": {},
   "outputs": [],
   "source": [
    "def pingpong3(n):\n",
    "    \"\"\"Return the nth element of the ping-pong sequence.\n",
    "\n",
    "    >>> pingpong(8)\n",
    "    8\n",
    "    >>> pingpong(10)\n",
    "    6\n",
    "    >>> pingpong(15)\n",
    "    1\n",
    "    >>> pingpong(21)\n",
    "    -1\n",
    "    >>> pingpong(22)\n",
    "    -2\n",
    "    >>> pingpong(30)\n",
    "    -2\n",
    "    >>> pingpong(68)\n",
    "    0\n",
    "    >>> pingpong(69)\n",
    "    -1\n",
    "    >>> pingpong(80)\n",
    "    0\n",
    "    >>> pingpong(81)\n",
    "    1\n",
    "    >>> pingpong(82)\n",
    "    0\n",
    "    >>> pingpong(100)\n",
    "    -6\n",
    "    >>> from construct_check import check\n",
    "    >>> # ban assignment statements\n",
    "    >>> check(HW_SOURCE_FILE, 'pingpong', ['Assign', 'AugAssign'])\n",
    "    True\n",
    "    \"\"\"\n",
    "    \"*** YOUR CODE HERE ***\"\n",
    "    "
   ]
  },
  {
   "cell_type": "code",
   "execution_count": 6,
   "metadata": {},
   "outputs": [
    {
     "data": {
      "text/plain": [
       "2"
      ]
     },
     "execution_count": 6,
     "metadata": {},
     "output_type": "execute_result"
    }
   ],
   "source": [
    "def num_eights(x):\n",
    "    \"\"\"Returns the number of times 8 appears as a digit of x.\n",
    "\n",
    "    >>> num_eights(3)\n",
    "    0\n",
    "    >>> num_eights(8)\n",
    "    1\n",
    "    >>> num_eights(88888888)\n",
    "    8\n",
    "    >>> num_eights(2638)\n",
    "    1\n",
    "    >>> num_eights(86380)\n",
    "    2\n",
    "    >>> num_eights(12345)\n",
    "    0\n",
    "    >>> from construct_check import check\n",
    "    >>> # ban all assignment statements\n",
    "    >>> check(HW_SOURCE_FILE, 'num_eights',\n",
    "    ...       ['Assign', 'AugAssign'])\n",
    "    True\n",
    "    \"\"\"\n",
    "    \"*** YOUR CODE HERE ***\"\n",
    "    last, remain = x % 10, x // 10\n",
    "    if remain == 0:\n",
    "        return int(last == 8)\n",
    "    else:\n",
    "        return int(last == 8) + num_eights(remain)\n",
    "\n",
    "num_eights(86380)"
   ]
  },
  {
   "cell_type": "code",
   "execution_count": 1,
   "metadata": {},
   "outputs": [
    {
     "data": {
      "text/plain": [
       "5"
      ]
     },
     "execution_count": 1,
     "metadata": {},
     "output_type": "execute_result"
    }
   ],
   "source": [
    "def pingpong(n):\n",
    "    \"\"\"Return the nth element of the ping-pong sequence.\n",
    "\n",
    "    >>> pingpong(8)\n",
    "    8\n",
    "    >>> pingpong(10)\n",
    "    6\n",
    "    >>> pingpong(15)\n",
    "    1\n",
    "    >>> pingpong(21)\n",
    "    -1\n",
    "    >>> pingpong(22)\n",
    "    -2\n",
    "    >>> pingpong(30)\n",
    "    -2\n",
    "    >>> pingpong(68)\n",
    "    0\n",
    "    >>> pingpong(69)\n",
    "    -1\n",
    "    >>> pingpong(80)\n",
    "    0\n",
    "    >>> pingpong(81)\n",
    "    1\n",
    "    >>> pingpong(82)\n",
    "    0\n",
    "    >>> pingpong(100)\n",
    "    -6\n",
    "    >>> from construct_check import check\n",
    "    >>> # ban assignment statements\n",
    "    >>> check(HW_SOURCE_FILE, 'pingpong', ['Assign', 'AugAssign'])\n",
    "    True\n",
    "    \"\"\"\n",
    "    \"*** YOUR CODE HERE ***\"\n",
    "    \n",
    "    def inner_func(x, total_so_far=0):\n",
    "        if x == 1:\n",
    "            return 1\n",
    "        if ((x-1) % 8 == 0 or num_eights(x-1) > 0) and x <= n:\n",
    "            return 1 + inner_func(x+1)\n",
    "    "
   ]
  },
  {
   "cell_type": "code",
   "execution_count": 24,
   "metadata": {},
   "outputs": [
    {
     "data": {
      "text/plain": [
       "0"
      ]
     },
     "execution_count": 24,
     "metadata": {},
     "output_type": "execute_result"
    }
   ],
   "source": [
    "def pingpong_my(n):\n",
    "    i = 1\n",
    "    total = 0\n",
    "    sign = 1\n",
    "    while i <= n:\n",
    "        total += sign\n",
    "        if i % 8 == 0 or num_eights(i) > 0:\n",
    "            sign = -1*sign\n",
    "        i += 1\n",
    "    return total\n",
    "\n",
    "pingpong_my(82)"
   ]
  },
  {
   "cell_type": "code",
   "execution_count": 34,
   "metadata": {},
   "outputs": [
    {
     "data": {
      "text/plain": [
       "0"
      ]
     },
     "execution_count": 34,
     "metadata": {},
     "output_type": "execute_result"
    }
   ],
   "source": [
    "def pingpong_recur(n):\n",
    "    def inner_f(i=1, sign=1):\n",
    "        if i == n:\n",
    "            return sign\n",
    "        else:\n",
    "            # RECURSION\n",
    "            if i % 8 == 0 or num_eights(i) > 0:\n",
    "                return sign + inner_f(i+1, -1*sign)\n",
    "            else:\n",
    "                return sign + inner_f(i+1, sign)\n",
    "    return inner_f()\n",
    "\n",
    "pingpong_recur(68)"
   ]
  },
  {
   "cell_type": "code",
   "execution_count": null,
   "metadata": {},
   "outputs": [],
   "source": [
    "def missing_digits(n):\n",
    "    last, reminder = n % 10, n // 10\n",
    "    \n",
    "    def inner_f(x, )"
   ]
  },
  {
   "cell_type": "code",
   "execution_count": 29,
   "metadata": {},
   "outputs": [
    {
     "data": {
      "text/plain": [
       "3"
      ]
     },
     "execution_count": 29,
     "metadata": {},
     "output_type": "execute_result"
    }
   ],
   "source": [
    "def list_missing(a, b):\n",
    "    assert a <= b, \"a must be smaller than b\"\n",
    "    return list(range(a+1, b))\n",
    "\n",
    "\n",
    "def missing_digits_for(n):\n",
    "    missing_l = []\n",
    "    while n >= 10:\n",
    "        last, second_last = n % 10, n // 10 % 10\n",
    "        #print(f\"last={last}, second_last={second_last}\")\n",
    "        missing_l.extend(list_missing(second_last, last))\n",
    "        n = n // 10\n",
    "        \n",
    "    return len(missing_l)\n",
    "\n",
    "missing_digits_for(4)\n",
    "\n",
    "\n",
    "def missing_digits_recur(n):\n",
    "    if n < 10:\n",
    "        #BASE\n",
    "        return 0\n",
    "    else:\n",
    "        #RECURSION\n",
    "        last, second_last = n % 10, n // 10 % 10\n",
    "        return len(list_missing(second_last, last)) + missing_digits_recur(n//10)\n",
    "    \n",
    "missing_digits_recur(3558)\n"
   ]
  },
  {
   "cell_type": "code",
   "execution_count": 2,
   "metadata": {},
   "outputs": [
    {
     "data": {
      "text/plain": [
       "('maps', 'maps')"
      ]
     },
     "execution_count": 2,
     "metadata": {},
     "output_type": "execute_result"
    }
   ],
   "source": [
    "def reverse_rec(s):\n",
    "    if len(s) == 1:\n",
    "        return s\n",
    "    else:\n",
    "        #RECUR\n",
    "        return s[-1] + reverse_rec(s[:-1])\n",
    "\n",
    "reverse_rec('spam'), 'spam'[::-1]"
   ]
  },
  {
   "cell_type": "code",
   "execution_count": 7,
   "metadata": {},
   "outputs": [
    {
     "data": {
      "text/plain": [
       "3628800"
      ]
     },
     "execution_count": 7,
     "metadata": {},
     "output_type": "execute_result"
    }
   ],
   "source": [
    "def fact_help(n, k):\n",
    "    if k == n:\n",
    "        return k\n",
    "    else:\n",
    "        #RECUR\n",
    "        return k * fact_help(n, k+1)\n",
    "\n",
    "def fact_up(n):\n",
    "    return fact_help(n, 1)\n",
    "\n",
    "fact_up(10)"
   ]
  },
  {
   "cell_type": "code",
   "execution_count": 8,
   "metadata": {},
   "outputs": [
    {
     "data": {
      "text/plain": [
       "3628800"
      ]
     },
     "execution_count": 8,
     "metadata": {},
     "output_type": "execute_result"
    }
   ],
   "source": [
    "def fact(n):\n",
    "    if n == 1:\n",
    "        return 1\n",
    "    else:\n",
    "        return n*fact(n-1)\n",
    "\n",
    "fact(10)"
   ]
  },
  {
   "cell_type": "code",
   "execution_count": 9,
   "metadata": {},
   "outputs": [
    {
     "data": {
      "text/plain": [
       "5"
      ]
     },
     "execution_count": 9,
     "metadata": {},
     "output_type": "execute_result"
    }
   ],
   "source": [
    "\n",
    "def max_subseq(n, t):\n",
    "    \"\"\"\n",
    "    Return the maximum subsequence of length at most t that can be found in the given number n.\n",
    "    For example, for n = 20125 and t = 3, we have that the subsequences are\n",
    "\n",
    "    >>> max_subseq(20125, 3)\n",
    "    225\n",
    "    >>> max_subseq(20125, 5)\n",
    "    20125\n",
    "    >>> max_subseq(20125, 6) # note that 20125 == 020125\n",
    "    20125\n",
    "    >>> max_subseq(12345, 3)\n",
    "    345\n",
    "    >>> max_subseq(12345, 0) # 0 is of length 0\n",
    "    0\n",
    "    >>> max_subseq(12345, 1)\n",
    "    5\n",
    "    \"\"\"\n",
    "    \"*** YOUR CODE HERE ***\"\n",
    "    n = str(n)\n",
    "    if len(n) <= t:\n",
    "        return int(n)\n",
    "    if t == 0:\n",
    "        return 0\n",
    "    elif t == 1:\n",
    "        return max([int(j) for j in n])\n",
    "    else:\n",
    "        n_digits = len(n)\n",
    "        max_numbers = []\n",
    "        for i in range(0, n_digits-1):\n",
    "            max_numbers.append(n[i] + str(max_subseq(n[i+1:], t-1)))\n",
    "        #print(max_numbers)\n",
    "    return max([int(j) for j in max_numbers])\n",
    "\n",
    "max_subseq(12345, 1)"
   ]
  },
  {
   "cell_type": "code",
   "execution_count": 33,
   "metadata": {},
   "outputs": [
    {
     "name": "stdout",
     "output_type": "stream",
     "text": [
      "-1\n",
      "n[-1]=5 + max_subseq(n[0:], 3)\n",
      "-2\n",
      "n[-2]=2 + max_subseq(n[-1:], 3)\n",
      "-3\n",
      "n[-3]=1 + max_subseq(n[-2:], 3)\n",
      "-4\n",
      "n[-4]=0 + max_subseq(n[-3:], 3)\n",
      "-5\n",
      "n[-5]=2 + max_subseq(n[-4:], 3)\n"
     ]
    }
   ],
   "source": [
    "n = 20125\n",
    "t = 3\n",
    "n_digits = len(str(n))\n",
    "max_numbers = []\n",
    "for i in range(-1, -n_digits-1, -1):\n",
    "    print(i)\n",
    "    print(f\"n[{i}]={str(n)[i]} + max_subseq(n[{i+1}:], {t})\")"
   ]
  },
  {
   "cell_type": "code",
   "execution_count": 31,
   "metadata": {},
   "outputs": [
    {
     "data": {
      "text/plain": [
       "11"
      ]
     },
     "execution_count": 31,
     "metadata": {},
     "output_type": "execute_result"
    }
   ],
   "source": [
    "def shifty_shifts(start, goal, limit):\n",
    "    \"\"\"A diff function for autocorrect that determines how many letters\n",
    "    in START need to be substituted to create GOAL, then adds the difference in\n",
    "    their lengths.\n",
    "    \"\"\"\n",
    "    # BEGIN PROBLEM 6\n",
    "    def g(start, goal, num_times=0, num_changes=0):\n",
    "        if num_changes > limit:\n",
    "            return limit+1\n",
    "        if not start:\n",
    "            return len(goal) + num_changes\n",
    "        elif not goal:\n",
    "            return len(start) + num_changes\n",
    "        else:\n",
    "            #RECURSION\n",
    "            return g(start[1:], goal[1:], num_times+1, num_changes + int(start[0] != goal[0]))\n",
    "    return g(start, goal)\n",
    "    # END PROBLEM 6\n",
    "    \n",
    "shifty_shifts(\"awful\", \"awesome\", 4), shifty_shifts('pc', 'pc', 0)\n",
    "shifty_shifts(\"awful\", \"awesome\", 3)\n",
    "[shifty_shifts('pc', 'pc', k) > k for k in range(2)]\n",
    "shifty_shifts(\"rosesabcdefghijklm\", \"arosenopqrstuvwxyz\", 10)"
   ]
  },
  {
   "cell_type": "code",
   "execution_count": 83,
   "metadata": {},
   "outputs": [
    {
     "data": {
      "text/plain": [
       "3"
      ]
     },
     "execution_count": 83,
     "metadata": {},
     "output_type": "execute_result"
    }
   ],
   "source": [
    "def pawssible_patches(start, goal, limit):\n",
    "    \"\"\"A diff function that computes the edit distance from START to GOAL.\"\"\"\n",
    "\n",
    "    if limit < 0: # Fill in the condition\n",
    "        # BEGIN\n",
    "        \"*** YOUR CODE HERE ***\"\n",
    "        return 1\n",
    "        # END\n",
    "\n",
    "    elif start == goal: # Feel free to remove or add additional cases\n",
    "        # BEGIN\n",
    "        \"*** YOUR CODE HERE ***\"\n",
    "        return 0\n",
    "        # END\n",
    "\n",
    "    elif not start or not goal:\n",
    "        return max([len(start), len(goal)])\n",
    "    else:\n",
    "        if start[0] == goal[0]:\n",
    "            return pawssible_patches(start[1:], goal[1:], limit)\n",
    "        else:\n",
    "            add_diff = goal[0] + start # Fill in these lines\n",
    "            remove_diff = start[1:]\n",
    "            substitute_diff = goal[0] + start[1:]\n",
    "\n",
    "            return 1 + min(\n",
    "                [\n",
    "                    pawssible_patches(add_diff, goal, limit-1),\n",
    "                    pawssible_patches(remove_diff, goal, limit-1),\n",
    "                    pawssible_patches(substitute_diff, goal, limit-1)\n",
    "                ]\n",
    "            )\n",
    "            # BEGIN\n",
    "            \"*** YOUR CODE HERE ***\"\n",
    "            # END\n",
    "\n",
    "#pawssible_patches(\"cats\", \"scat\", 10), pawssible_patches(\"purng\", \"purring\", 10), pawssible_patches(\"ckiteus\", \"kittens\", 10)\n",
    "pawssible_patches(\"ckiteus\", \"kittens\", 9)"
   ]
  },
  {
   "cell_type": "code",
   "execution_count": 3,
   "metadata": {},
   "outputs": [
    {
     "name": "stdout",
     "output_type": "stream",
     "text": [
      "[[2, 2], [3, 1]]\n"
     ]
    }
   ],
   "source": [
    "def time_per_word(times_per_player, words):\n",
    "    \"\"\"Given timing data, return a game data abstraction, which contains a list\n",
    "    of words and the amount of time each player took to type each word.\n",
    "\n",
    "    Arguments:\n",
    "        times_per_player: A list of lists of timestamps including the time\n",
    "                          the player started typing, followed by the time\n",
    "                          the player finished typing each word.\n",
    "        words: a list of words, in the order they are typed.\n",
    "    \"\"\"\n",
    "    # BEGIN PROBLEM 9\n",
    "    \"*** YOUR CODE HERE ***\"\n",
    "    t = []\n",
    "    for player_t in times_per_player:\n",
    "        out_t = []\n",
    "        for i in range(1, len(player_t)):\n",
    "            out_t.append(player_t[i] - player_t[i-1])\n",
    "        t.append(out_t)\n",
    "    print(t)\n",
    "    # END PROBLEM 9\n",
    "\n",
    "time_per_word([[1, 3, 5], [2, 5, 6]], ['hi', 'there'])"
   ]
  },
  {
   "cell_type": "code",
   "execution_count": 9,
   "metadata": {},
   "outputs": [
    {
     "data": {
      "text/plain": [
       "[[100], [], [], []]"
      ]
     },
     "execution_count": 9,
     "metadata": {},
     "output_type": "execute_result"
    }
   ],
   "source": [
    "l = [[] for i in range(4)]\n",
    "l[0].append(100)\n",
    "l"
   ]
  },
  {
   "cell_type": "code",
   "execution_count": 19,
   "metadata": {},
   "outputs": [
    {
     "name": "stdout",
     "output_type": "stream",
     "text": [
      "The max value is: 10 at 3. The min value is 1 at 1.\n"
     ]
    },
    {
     "data": {
      "text/plain": [
       "3"
      ]
     },
     "execution_count": 19,
     "metadata": {},
     "output_type": "execute_result"
    }
   ],
   "source": [
    "gfg_list = [8, 1, 7, 10, 5]\n",
    "min_so_far, max_so_far = gfg_list[0], gfg_list[0]\n",
    "min_idx, max_idx = 0, 0\n",
    "\n",
    "for i, value in enumerate(gfg_list):\n",
    "    if value > max_so_far:\n",
    "        max_idx = i\n",
    "        max_so_far = value\n",
    "    if value < min_so_far:\n",
    "        min_idx = i\n",
    "        min_so_far = value\n",
    "\n",
    "print(f\"The max value is: {max_so_far} at {max_idx}. The min value is {min_so_far} at {min_idx}.\")\n",
    "\n",
    "import numpy as np\n",
    "\n",
    "np.argmax(gfg_list), np.argmin(gfg_list), np.max(np.array(gfg_list))\n",
    "\n",
    "max(range(len(gfg_list)), key=lambda x: gfg_list[x])"
   ]
  },
  {
   "cell_type": "code",
   "execution_count": 23,
   "metadata": {},
   "outputs": [
    {
     "data": {
      "text/plain": [
       "[3, 5, 4, 6]"
      ]
     },
     "execution_count": 23,
     "metadata": {},
     "output_type": "execute_result"
    }
   ],
   "source": [
    "def riffle(deck):\n",
    "    \"\"\"Produces a single, perfect riffle shuffle of DECK, consisting of\n",
    "    DECK[0], DECK[M], DECK[1], DECK[M+1], ... where M is position of the\n",
    "    second half of the deck.  Assume that len(DECK) is even.\n",
    "    >>> riffle([3, 4, 5, 6])\n",
    "    [3, 5, 4, 6]\n",
    "    >>> riffle(range(20))\n",
    "    [0, 10, 1, 11, 2, 12, 3, 13, 4, 14, 5, 15, 6, 16, 7, 17, 8, 18, 9, 19]\n",
    "    \"\"\"\n",
    "    \"*** YOUR CODE HERE ***\"\n",
    "    return [deck[(i%2)*(len(deck)//2)+(i//2)] for i in range(len(deck))]\n",
    "\n",
    "riffle([3, 4, 5, 6])"
   ]
  },
  {
   "cell_type": "code",
   "execution_count": 40,
   "metadata": {},
   "outputs": [
    {
     "name": "stdout",
     "output_type": "stream",
     "text": [
      "label: 5, [6, 8]\n",
      "label: 1, [9, 11]\n"
     ]
    },
    {
     "data": {
      "text/plain": [
       "[2, 7, 6, 5]"
      ]
     },
     "execution_count": 40,
     "metadata": {},
     "output_type": "execute_result"
    }
   ],
   "source": [
    "\n",
    "# Tree ADT\n",
    "\n",
    "def tree(label, branches=[]):\n",
    "    \"\"\"Construct a tree with the given label value and a list of branches.\"\"\"\n",
    "    if change_abstraction.changed:\n",
    "        for branch in branches:\n",
    "            assert is_tree(branch), 'branches must be trees'\n",
    "        return {'label': label, 'branches': list(branches)}\n",
    "    else:\n",
    "        for branch in branches:\n",
    "            assert is_tree(branch), 'branches must be trees'\n",
    "        return [label] + list(branches)\n",
    "\n",
    "def label(tree):\n",
    "    \"\"\"Return the label value of a tree.\"\"\"\n",
    "    if change_abstraction.changed:\n",
    "        return tree['label']\n",
    "    else:\n",
    "        return tree[0]\n",
    "\n",
    "def branches(tree):\n",
    "    \"\"\"Return the list of branches of the given tree.\"\"\"\n",
    "    if change_abstraction.changed:\n",
    "        return tree['branches']\n",
    "    else:\n",
    "        return tree[1:]\n",
    "\n",
    "def is_tree(tree):\n",
    "    \"\"\"Returns True if the given tree is a tree, and False otherwise.\"\"\"\n",
    "    if change_abstraction.changed:\n",
    "        if type(tree) != dict or len(tree) != 2:\n",
    "            return False\n",
    "        for branch in branches(tree):\n",
    "            if not is_tree(branch):\n",
    "                return False\n",
    "        return True\n",
    "    else:\n",
    "        if type(tree) != list or len(tree) < 1:\n",
    "            return False\n",
    "        for branch in branches(tree):\n",
    "            if not is_tree(branch):\n",
    "                return False\n",
    "        return True\n",
    "\n",
    "def is_leaf(tree):\n",
    "    \"\"\"Returns True if the given tree's list of branches is empty, and False\n",
    "    otherwise.\n",
    "    \"\"\"\n",
    "    return not branches(tree)\n",
    "\n",
    "def change_abstraction(change):\n",
    "    change_abstraction.changed = change\n",
    "\n",
    "change_abstraction.changed = False\n",
    "\n",
    "\n",
    "def print_tree(t, indent=0):\n",
    "    \"\"\"Print a representation of this tree in which each node is\n",
    "    indented by two spaces times its depth from the root.\n",
    "\n",
    "    >>> print_tree(tree(1))\n",
    "    1\n",
    "    >>> print_tree(tree(1, [tree(2)]))\n",
    "    1\n",
    "      2\n",
    "    >>> numbers = tree(1, [tree(2), tree(3, [tree(4), tree(5)]), tree(6, [tree(7)])])\n",
    "    >>> print_tree(numbers)\n",
    "    1\n",
    "      2\n",
    "      3\n",
    "        4\n",
    "        5\n",
    "      6\n",
    "        7\n",
    "    \"\"\"\n",
    "    print('  ' * indent + str(label(t)))\n",
    "    for b in branches(t):\n",
    "        print_tree(b, indent + 1)\n",
    "\n",
    "def copy_tree(t):\n",
    "    \"\"\"Returns a copy of t. Only for testing purposes.\n",
    "\n",
    "    >>> t = tree(5)\n",
    "    >>> copy = copy_tree(t)\n",
    "    >>> t = tree(6)\n",
    "    >>> print_tree(copy)\n",
    "    5\n",
    "    \"\"\"\n",
    "    return tree(label(t), [copy_tree(b) for b in branches(t)])\n",
    "\n",
    "tree(1, branches=[tree(2, [tree(3)])])\n",
    "t1 = tree(1)\n",
    "t2 = tree(2)\n",
    "t1, t2\n",
    "l = []\n",
    "l.append(1)\n",
    "l\n",
    "l2 = l.copy()\n",
    "l.append(2)\n",
    "l, l2\n",
    "\n",
    "t = tree(1, [tree(3, [tree(4), tree(5), tree(6)]), tree(2)])\n",
    "t\n",
    "\n",
    "def height_tree(t):\n",
    "    \"\"\"Return the height of a tree\"\"\"\n",
    "    if is_leaf(t):\n",
    "        return 0\n",
    "    else:\n",
    "        heights = [1+height_tree(b) for b in branches(t)]\n",
    "        return max(heights)\n",
    "\n",
    "\n",
    "height_tree(tree(3, [tree(5, [tree(1)]), tree(2)]))\n",
    "\n",
    "def max_sum_path(t):\n",
    "    if is_leaf(t):\n",
    "        return label(t)\n",
    "    else:\n",
    "        sums = [label(t) + max_sum_path(b) for b in branches(t)]\n",
    "        print(f\"label: {label(t)}, {sums}\")\n",
    "        return max(sums)\n",
    "\n",
    "max_sum_path(tree(1, [tree(5, [tree(1), tree(3)]), tree(10)]))\n",
    "\n",
    "def square_tree(t):\n",
    "    if is_leaf(t):\n",
    "        return tree(label=label(t)**2)\n",
    "    else:\n",
    "        #RECURSION\n",
    "        return tree(label(t)**2, branches=[square_tree(b) for b in branches(t)])\n",
    "\n",
    "square_tree(tree(1, [tree(5, [tree(1), tree(3)]), tree(10)]))\n",
    "square_tree(tree(1, [\n",
    "    tree(2, [tree(3), tree(4)]),\n",
    "    tree(5, [tree(6, [tree(7)]), tree(8)])\n",
    "]))\n",
    "\n",
    "\n",
    "def find_path(t, x):\n",
    "    \"\"\"Find label X in tree T, assume unique labels\"\"\"\n",
    "    if label(t) == x:\n",
    "        return [label(t)]\n",
    "    else:\n",
    "        if is_leaf(t):\n",
    "            # not found\n",
    "            return None\n",
    "        else:\n",
    "            for b in branches(t):\n",
    "                if find_path(b, x):\n",
    "                    return [label(t)] + find_path(b, x)\n",
    "            return None\n",
    "        \n",
    "def find_path(t, x):\n",
    "    if label(t) == x:\n",
    "        return [label(t)]\n",
    "    for b in branches(t):\n",
    "        path = find_path(b, x)\n",
    "        if path:\n",
    "            return [label(t)] + path\n",
    "\n",
    "t = tree(2, [tree(7, [tree(3), tree(6, [tree(5), tree(11)])] ), tree(15)])\n",
    "find_path(t, 5)\n",
    "#print(find_path(t, 10))"
   ]
  },
  {
   "cell_type": "code",
   "execution_count": 51,
   "metadata": {},
   "outputs": [
    {
     "name": "stdout",
     "output_type": "stream",
     "text": [
      "['1', ['0', ['0'], ['1']], ['1', ['0']]]\n"
     ]
    },
    {
     "data": {
      "text/plain": [
       "['1', ['0', ['0']], ['1', ['0']]]"
      ]
     },
     "execution_count": 51,
     "metadata": {},
     "output_type": "execute_result"
    }
   ],
   "source": [
    "def prune_binary(t, nums, word_so_far=''):\n",
    "    if is_leaf(t):\n",
    "        if (word_so_far + label(t)) not in nums:\n",
    "            # prune this branch\n",
    "            return None\n",
    "        else:\n",
    "            return t\n",
    "    else:\n",
    "        #RECURSION\n",
    "        results = [prune_binary(b, nums, word_so_far+label(t)) for b in branches(t)]\n",
    "        if not any(results):\n",
    "            # not branches in num\n",
    "            return None\n",
    "        else:\n",
    "            # save only viable branches\n",
    "            return tree(label(t), [res for res in results if res is not None])\n",
    "\n",
    "\n",
    "t = tree('1', [tree('0', [tree('0'), tree('1')]), tree('1', [tree('0')])])\n",
    "print(t)\n",
    "prune_binary(t, ['01', '110', '100'])"
   ]
  },
  {
   "cell_type": "code",
   "execution_count": 62,
   "metadata": {},
   "outputs": [
    {
     "name": "stdout",
     "output_type": "stream",
     "text": [
      "['1', ['0', ['0'], ['1']], ['1', ['0']]]\n",
      "['1', ['0', ['0']], ['1', ['0']]]\n"
     ]
    }
   ],
   "source": [
    "def prune_binary(t, nums):\n",
    "    #print(f\"t={t}, nums={nums}\")\n",
    "    if is_leaf(t):\n",
    "        if label(t) in nums:\n",
    "            #print(f\"I am returning a tree: {t}\")\n",
    "            return t\n",
    "        return None\n",
    "    else:\n",
    "        next_valid_nums = [n[1:] for n in nums if n[0] == label(t)]\n",
    "        new_branches = []\n",
    "        for b in branches(t):\n",
    "            pruned_branch = prune_binary(b, next_valid_nums)\n",
    "            if pruned_branch is not None:\n",
    "                new_branches = new_branches + [pruned_branch]\n",
    "        if not new_branches:\n",
    "            return None\n",
    "        return tree(label(t), new_branches)\n",
    "    \n",
    "t = tree('1', [tree('0', [tree('0'), tree('1')]), tree('1', [tree('0')])])\n",
    "print(t)\n",
    "print(prune_binary(t, ['01', '110', '100']))"
   ]
  },
  {
   "cell_type": "code",
   "execution_count": 5,
   "metadata": {},
   "outputs": [
    {
     "name": "stdout",
     "output_type": "stream",
     "text": [
      "Insufficient fund.\n"
     ]
    },
    {
     "data": {
      "text/plain": [
       "50"
      ]
     },
     "execution_count": 5,
     "metadata": {},
     "output_type": "execute_result"
    }
   ],
   "source": [
    "def make_withdraw(balance):\n",
    "    def withdraw(x):\n",
    "        nonlocal balance\n",
    "        if balance > x:\n",
    "            balance -= x\n",
    "            return balance\n",
    "        else:\n",
    "            print(\"Insufficient fund.\")\n",
    "        \n",
    "    return withdraw\n",
    "\n",
    "withdraw = make_withdraw(100)\n",
    "withdraw(25)\n",
    "withdraw(20)\n",
    "withdraw(60)\n",
    "withdraw(5)"
   ]
  },
  {
   "cell_type": "code",
   "execution_count": null,
   "metadata": {},
   "outputs": [],
   "source": [
    "def combo(a, b):\n",
    "    \"\"\"Returns common ...\n",
    "    >>> combo(531, 432)\n",
    "    45321\n",
    "    >>> combo(531, 4321)\n",
    "    45321\n",
    "    >>> combo(1234, 9123)\n",
    "    91234\n",
    "    >>> combo(0, 321)\n",
    "    321\n",
    "    \"\"\"\n",
    "    if a < 10 or b < 10:\n",
    "        return a + b\n",
    "    elif a < 10:\n",
    "        return combo() * 100\n",
    "    return combo(a, b)"
   ]
  },
  {
   "cell_type": "code",
   "execution_count": null,
   "metadata": {},
   "outputs": [],
   "source": [
    "def combo(a, b):\n",
    "    \"\"\"Returns common ...\n",
    "    >>> combo(531, 432)\n",
    "    45321\n",
    "    >>> combo(531, 4321)\n",
    "    45321\n",
    "    >>> combo(1234, 9123)\n",
    "    91234\n",
    "    >>> combo(0, 321)\n",
    "    321\n",
    "    \"\"\"\n",
    "    "
   ]
  }
 ],
 "metadata": {
  "kernelspec": {
   "display_name": "torch",
   "language": "python",
   "name": "python3"
  },
  "language_info": {
   "codemirror_mode": {
    "name": "ipython",
    "version": 3
   },
   "file_extension": ".py",
   "mimetype": "text/x-python",
   "name": "python",
   "nbconvert_exporter": "python",
   "pygments_lexer": "ipython3",
   "version": "3.11.4"
  }
 },
 "nbformat": 4,
 "nbformat_minor": 2
}
