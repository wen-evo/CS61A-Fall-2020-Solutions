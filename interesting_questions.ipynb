{
 "cells": [
  {
   "cell_type": "code",
   "execution_count": null,
   "metadata": {},
   "outputs": [],
   "source": [
    "\"\"\"Q: what is the parent frame of second_func(x) when n >= 4?\n",
    "\n",
    "A: The first call of first_func(), as this is what second_func binds to in that namespace \n",
    "    (LEGB, the enclosing namespace); and this is why nonlocal n got inherited in 2nd second_func call\n",
    "\"\"\"\n",
    "\n",
    "\n",
    "def add1(x):\n",
    "    return x + 1\n",
    "def times2(x):\n",
    "    return x * 2\n",
    "def add3(x):\n",
    "    return x + 3\n",
    "\n",
    "def cycle(f1, f2, f3):\n",
    "    \"\"\"Returns a function that is itself a higher-order function.\n",
    "\n",
    "    >>> def add1(x):\n",
    "    ...     return x + 1\n",
    "    >>> def times2(x):\n",
    "    ...     return x * 2\n",
    "    >>> def add3(x):\n",
    "    ...     return x + 3\n",
    "    >>> my_cycle = cycle(add1, times2, add3)\n",
    "    >>> identity = my_cycle(0)\n",
    "    >>> identity(5)\n",
    "    5\n",
    "    >>> add_one_then_double = my_cycle(2)\n",
    "    >>> add_one_then_double(1)\n",
    "    4\n",
    "    >>> do_all_functions = my_cycle(3)\n",
    "    >>> do_all_functions(2)\n",
    "    9\n",
    "    >>> do_more_than_a_cycle = my_cycle(4)\n",
    "    >>> do_more_than_a_cycle(2)\n",
    "    10\n",
    "    >>> do_two_cycles = my_cycle(6)\n",
    "    >>> do_two_cycles(1)\n",
    "    19\n",
    "    \"\"\"\n",
    "    \"*** YOUR CODE HERE ***\"\n",
    "    def first_func(n):\n",
    "        def second_func(x):\n",
    "            nonlocal n\n",
    "            if n == 0:\n",
    "                return x\n",
    "            elif n == 1:\n",
    "                return f1(x)\n",
    "            elif n == 2:\n",
    "                return f2(f1(x))\n",
    "            elif n == 3:\n",
    "                return f3(f2(f1(x)))\n",
    "            else:\n",
    "                # n >= 4\n",
    "                x = f3(f2(f1(x)))\n",
    "                n -= 3\n",
    "                return second_func(x)\n",
    "        return second_func\n",
    "    return first_func\n",
    "\n",
    "my_cycle = cycle(add1, times2, add3)\n",
    "add_one_then_double = my_cycle(4)\n",
    "add_one_then_double(2)"
   ]
  },
  {
   "cell_type": "markdown",
   "metadata": {},
   "source": [
    "### generator funcs can yield MULTIPLE times; normal funcs can only return onece"
   ]
  },
  {
   "cell_type": "code",
   "execution_count": 2,
   "metadata": {},
   "outputs": [
    {
     "data": {
      "text/plain": [
       "(5, -5)"
      ]
     },
     "execution_count": 2,
     "metadata": {},
     "output_type": "execute_result"
    }
   ],
   "source": [
    "def f(x):\n",
    "    if 1:\n",
    "        yield x\n",
    "    yield -x\n",
    "    \n",
    "t = f(5)\n",
    "next(t), next(t)"
   ]
  },
  {
   "cell_type": "markdown",
   "metadata": {},
   "source": [
    "#### Subtle diff between isintance() and type()"
   ]
  },
  {
   "cell_type": "code",
   "execution_count": 1,
   "metadata": {},
   "outputs": [
    {
     "data": {
      "text/plain": [
       "(True, False, True, False)"
      ]
     },
     "execution_count": 1,
     "metadata": {},
     "output_type": "execute_result"
    }
   ],
   "source": [
    "class A:\n",
    "    \"\"\"Parent class\"\"\"\n",
    "\n",
    "\n",
    "class B:\n",
    "    \"\"\"Subclass\"\"\"\n",
    "\n",
    "\n",
    "b = B()\n",
    "isinstance(b, B), isinstance(b, A), type(b) == B, type(b) == A"
   ]
  }
 ],
 "metadata": {
  "kernelspec": {
   "display_name": "base",
   "language": "python",
   "name": "python3"
  },
  "language_info": {
   "codemirror_mode": {
    "name": "ipython",
    "version": 3
   },
   "file_extension": ".py",
   "mimetype": "text/x-python",
   "name": "python",
   "nbconvert_exporter": "python",
   "pygments_lexer": "ipython3",
   "version": "3.11.4"
  }
 },
 "nbformat": 4,
 "nbformat_minor": 2
}
