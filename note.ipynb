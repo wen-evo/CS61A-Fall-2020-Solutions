{
 "cells": [
  {
   "cell_type": "code",
   "execution_count": 3,
   "metadata": {},
   "outputs": [
    {
     "name": "stdout",
     "output_type": "stream",
     "text": [
      "hi\n"
     ]
    }
   ],
   "source": [
    "def f():\n",
    "    print('hi')\n",
    "\n",
    "\n",
    "f()"
   ]
  },
  {
   "cell_type": "code",
   "execution_count": 2,
   "metadata": {},
   "outputs": [
    {
     "data": {
      "text/plain": [
       "50"
      ]
     },
     "execution_count": 2,
     "metadata": {},
     "output_type": "execute_result"
    }
   ],
   "source": [
    "def fun_gen(n):\n",
    "    return lambda x: n*x\n",
    "\n",
    "g = fun_gen(10)\n",
    "g(5)"
   ]
  },
  {
   "cell_type": "code",
   "execution_count": 19,
   "metadata": {},
   "outputs": [
    {
     "name": "stdout",
     "output_type": "stream",
     "text": [
      "42\n",
      "47\n",
      "None\n"
     ]
    }
   ],
   "source": [
    "def if_function(condition, true_result, false_result):\n",
    "    \"\"\"Return true_result if condition is a true value, and\n",
    "    false_result otherwise.\n",
    "\n",
    "    >>> if_function(True, 2, 3)\n",
    "    2\n",
    "    >>> if_function(False, 2, 3)\n",
    "    3\n",
    "    >>> if_function(3==2, 3+2, 3-2)\n",
    "    1\n",
    "    >>> if_function(3>2, 3+2, 3-2)\n",
    "    5\n",
    "    \"\"\"\n",
    "    if condition:\n",
    "        return true_result\n",
    "    else:\n",
    "        return false_result\n",
    "\n",
    "def with_if_statement():\n",
    "    \"\"\"\n",
    "    >>> result = with_if_statement()\n",
    "    47\n",
    "    >>> print(result)\n",
    "    None\n",
    "    \"\"\"\n",
    "    if cond():\n",
    "        return true_func()\n",
    "    else:\n",
    "        return false_func()\n",
    "\n",
    "def with_if_function():\n",
    "    \"\"\"\n",
    "    >>> result = with_if_function()\n",
    "    42\n",
    "    47\n",
    "    >>> print(result)\n",
    "    None\n",
    "    \"\"\"\n",
    "    return if_function(cond(), true_func(), false_func())\n",
    "\n",
    "def cond():\n",
    "    \"*** YOUR CODE HERE ***\"\n",
    "    return False\n",
    "\n",
    "def true_func():\n",
    "    \"*** YOUR CODE HERE ***\"\n",
    "    print(42)\n",
    "\n",
    "def false_func():\n",
    "    \"*** YOUR CODE HERE ***\"\n",
    "    print(47)\n",
    "    \n",
    "result = with_if_function()\n",
    "print(result)"
   ]
  },
  {
   "cell_type": "code",
   "execution_count": 6,
   "metadata": {},
   "outputs": [
    {
     "name": "stdout",
     "output_type": "stream",
     "text": [
      "2\n",
      "3\n",
      "11\n",
      "13\n"
     ]
    }
   ],
   "source": [
    "def prime_factors(n):\n",
    "    \"\"\"Find the primers factors of n, so that 2 * 3 * 5 ... = n\n",
    "    \n",
    "    output in non-decreasing orders\n",
    "    \n",
    "    >>> prime_factors(8)\n",
    "    2\n",
    "    2\n",
    "    2\n",
    "    >>> prime_factors(9)\n",
    "    3\n",
    "    3\n",
    "    >>> prime_factoers(858)\n",
    "    2\n",
    "    3\n",
    "    11\n",
    "    13\n",
    "    \"\"\"\n",
    "    \n",
    "    while n != 1:\n",
    "        k = smallest_prime_num(n)\n",
    "        print(k)\n",
    "        n = n // k\n",
    "        \n",
    "\n",
    "\n",
    "def smallest_prime_num(n):\n",
    "    \"\"\"Find the smallest prime number that divides n\"\"\"\n",
    "    \n",
    "    k = 2\n",
    "    while n % k != 0:\n",
    "        k += 1\n",
    "    return k\n",
    "\n",
    "\n",
    "prime_factors(858)"
   ]
  },
  {
   "cell_type": "code",
   "execution_count": 7,
   "metadata": {},
   "outputs": [
    {
     "name": "stdout",
     "output_type": "stream",
     "text": [
      "huge\n"
     ]
    }
   ],
   "source": [
    "def how_big(x):\n",
    "    if x > 10:\n",
    "        print('huge')\n",
    "    elif x > 5:\n",
    "        return 'big'\n",
    "    elif x > 0:\n",
    "        print('small')\n",
    "    else:\n",
    "        print(\"nothin\")\n",
    "        \n",
    "how_big(12)"
   ]
  },
  {
   "cell_type": "code",
   "execution_count": 8,
   "metadata": {},
   "outputs": [
    {
     "name": "stdout",
     "output_type": "stream",
     "text": [
      "2\n",
      "1\n",
      "0\n",
      "-1\n"
     ]
    }
   ],
   "source": [
    "n = 3\n",
    "while n>=0:\n",
    "    n -= 1\n",
    "    print(n)"
   ]
  },
  {
   "cell_type": "code",
   "execution_count": 8,
   "metadata": {},
   "outputs": [
    {
     "name": "stdout",
     "output_type": "stream",
     "text": [
      "8\n",
      "13\n",
      "21\n",
      "34\n",
      "55\n",
      "89\n",
      "144\n",
      "233\n",
      "377\n"
     ]
    }
   ],
   "source": [
    "def fib_recur(n):\n",
    "    #BASE\n",
    "    if n == 0:\n",
    "        return 0\n",
    "    if n == 1:\n",
    "        return 1\n",
    "    #RECURSION\n",
    "    return fib_recur(n-1) + fib_recur(n-2)\n",
    "\n",
    "for i in range(6, 15):\n",
    "    print(fib_recur(i))"
   ]
  },
  {
   "cell_type": "code",
   "execution_count": 9,
   "metadata": {},
   "outputs": [
    {
     "name": "stdout",
     "output_type": "stream",
     "text": [
      "8\n",
      "13\n",
      "21\n",
      "34\n",
      "55\n",
      "89\n",
      "144\n",
      "233\n",
      "377\n"
     ]
    }
   ],
   "source": [
    "def fib_while(n):\n",
    "    prev, cur = 0, 1\n",
    "    k = 1\n",
    "    while k < n:\n",
    "        prev, cur = cur, prev+cur\n",
    "        k += 1\n",
    "    return cur\n",
    "\n",
    "for i in range(6, 15):\n",
    "    print(fib_while(i))"
   ]
  },
  {
   "cell_type": "code",
   "execution_count": 29,
   "metadata": {},
   "outputs": [
    {
     "data": {
      "text/plain": [
       "55"
      ]
     },
     "execution_count": 29,
     "metadata": {},
     "output_type": "execute_result"
    }
   ],
   "source": [
    "def pi_f(k):\n",
    "    return 8/((4*k-3)*(4*k-1))\n",
    "\n",
    "def summation(n, term):\n",
    "    \"\"\"Sum the first N numbers\n",
    "    >>> summation(5, pi_f)\n",
    "    3.04\n",
    "    \"\"\"\n",
    "    return sum(map(term, range(1, n+1)))\n",
    "\n",
    "summation(5, lambda x: x**2)"
   ]
  },
  {
   "cell_type": "code",
   "execution_count": 30,
   "metadata": {},
   "outputs": [
    {
     "data": {
      "text/plain": [
       "(5, 10, 15)"
      ]
     },
     "execution_count": 30,
     "metadata": {},
     "output_type": "execute_result"
    }
   ],
   "source": [
    "f = lambda x: (x, x*2, x*3)\n",
    "f(5)"
   ]
  },
  {
   "cell_type": "code",
   "execution_count": 34,
   "metadata": {},
   "outputs": [
    {
     "data": {
      "text/plain": [
       "<function __main__.<lambda>(x)>"
      ]
     },
     "execution_count": 34,
     "metadata": {},
     "output_type": "execute_result"
    }
   ],
   "source": [
    "def square(x):\n",
    "    return x**2\n",
    "\n",
    "square\n",
    "\n",
    "square = lambda x: x**2\n",
    "square"
   ]
  },
  {
   "cell_type": "code",
   "execution_count": 28,
   "metadata": {},
   "outputs": [
    {
     "data": {
      "text/plain": [
       "55"
      ]
     },
     "execution_count": 28,
     "metadata": {},
     "output_type": "execute_result"
    }
   ],
   "source": [
    "sum(map(lambda x: x**2, range(1, 6)))"
   ]
  },
  {
   "cell_type": "code",
   "execution_count": 38,
   "metadata": {},
   "outputs": [
    {
     "data": {
      "text/plain": [
       "11"
      ]
     },
     "execution_count": 38,
     "metadata": {},
     "output_type": "execute_result"
    }
   ],
   "source": [
    "def search(f):\n",
    "    \"\"\"Search until f(x) is true\"\"\"\n",
    "    x = 0\n",
    "    while not f(x):\n",
    "        x += 1\n",
    "    return x\n",
    "        \n",
    "\n",
    "def is_three(y):\n",
    "    return y == 3\n",
    "\n",
    "def positive(x):\n",
    "    return max(0, x**2 - 100)\n",
    "\n",
    "\n",
    "search(positive)"
   ]
  },
  {
   "cell_type": "code",
   "execution_count": 57,
   "metadata": {},
   "outputs": [
    {
     "data": {
      "text/plain": [
       "{1: 'a', 2: 'b', 3: 'c'}"
      ]
     },
     "execution_count": 57,
     "metadata": {},
     "output_type": "execute_result"
    }
   ],
   "source": [
    "dict(list(zip((1, 2, 3), 'abc')))"
   ]
  },
  {
   "cell_type": "code",
   "execution_count": 71,
   "metadata": {},
   "outputs": [
    {
     "data": {
      "text/plain": [
       "True"
      ]
     },
     "execution_count": 71,
     "metadata": {},
     "output_type": "execute_result"
    }
   ],
   "source": [
    "def is_prime(n):\n",
    "    \"\"\"Deter if N is prime or not\n",
    "    >>> is_prime(10)\n",
    "    False\n",
    "    >>> is_prime(7)\n",
    "    True\n",
    "    \"\"\"\n",
    "    \n",
    "    for i in range(2, n):\n",
    "        if n % i == 0:\n",
    "            return False\n",
    "    return True\n",
    "\n",
    "\n",
    "is_prime(7)"
   ]
  },
  {
   "cell_type": "code",
   "execution_count": 81,
   "metadata": {},
   "outputs": [
    {
     "data": {
      "text/plain": [
       "2"
      ]
     },
     "execution_count": 81,
     "metadata": {},
     "output_type": "execute_result"
    }
   ],
   "source": [
    "from random import randint\n",
    "\n",
    "randint(5, 10)\n",
    "\n",
    "isinstance(5.0, float)\n",
    "\n",
    "def make_fair_dice(sides):\n",
    "    \"\"\"Return a die that returns 1 to SIDES with equal chance.\"\"\"\n",
    "    assert isinstance(sides, int) and sides >= 1, 'Illegal value for sides'\n",
    "    def dice():\n",
    "        return randint(1, sides)\n",
    "    return dice\n",
    "\n",
    "four_side = make_fair_dice(4)\n",
    "four_side()"
   ]
  },
  {
   "cell_type": "code",
   "execution_count": 92,
   "metadata": {},
   "outputs": [
    {
     "data": {
      "text/plain": [
       "(1, 2, 1, 2)"
      ]
     },
     "execution_count": 92,
     "metadata": {},
     "output_type": "execute_result"
    }
   ],
   "source": [
    "def make_test_dice(*outcomes):\n",
    "    \"\"\"Return a die that cycles deterministically through OUTCOMES.\n",
    "\n",
    "    >>> dice = make_test_dice(1, 2, 3)\n",
    "    >>> dice()\n",
    "    1\n",
    "    >>> dice()\n",
    "    2\n",
    "    >>> dice()\n",
    "    3\n",
    "    >>> dice()\n",
    "    1\n",
    "    >>> dice()\n",
    "    2\n",
    "\n",
    "    This function uses Python syntax/techniques not yet covered in this course.\n",
    "    The best way to understand it is by reading the documentation and examples.\n",
    "    \"\"\"\n",
    "    assert len(outcomes) > 0, \"Need inputs\"\n",
    "    i = 0\n",
    "    def dice():\n",
    "        nonlocal i\n",
    "        if i < len(outcomes):\n",
    "            i += 1\n",
    "        else:\n",
    "            i = 0\n",
    "            i += 1\n",
    "        return outcomes[i-1]\n",
    "            \n",
    "    \n",
    "    return dice\n",
    "\n",
    "d = make_test_dice(1, 2)\n",
    "d(), d(), d(), d()"
   ]
  },
  {
   "cell_type": "code",
   "execution_count": 6,
   "metadata": {},
   "outputs": [
    {
     "data": {
      "text/plain": [
       "(1, 2, 1, 2, 1)"
      ]
     },
     "execution_count": 6,
     "metadata": {},
     "output_type": "execute_result"
    }
   ],
   "source": [
    "def make_test_dice2(inputs):\n",
    "    \"\"\"roll only from [inputs] numbers\"\"\"\n",
    "    assert isinstance(inputs, list), \"Please input a list of numbers\"\n",
    "    \n",
    "    idx = len(inputs) - 1\n",
    "    def dice():\n",
    "        nonlocal idx\n",
    "        idx = (idx+1) % len(inputs)\n",
    "        return inputs[idx]\n",
    "    return dice\n",
    "    \n",
    "d = make_test_dice2([1, 2])\n",
    "d(), d(), d(), d(), d()"
   ]
  },
  {
   "cell_type": "code",
   "execution_count": 28,
   "metadata": {},
   "outputs": [
    {
     "name": "stdout",
     "output_type": "stream",
     "text": [
      "10 point(s)! The most yet for Player 1\n",
      "15 point(s)! The most yet for Player 1\n",
      "9 point(s)! The most yet for Player 1\n"
     ]
    }
   ],
   "source": [
    "def announce_highest(who, last_score=0, running_high=0):\n",
    "    \"\"\"Return a commentary function that announces when WHO's score\n",
    "    increases by more than ever before in the game.\n",
    "\n",
    "    NOTE: the following game is not possible under the rules, it's just\n",
    "    an example for the sake of the doctest\n",
    "\n",
    "    >>> f0 = announce_highest(1) # Only announce Player 1 score gains\n",
    "    >>> f1 = f0(12, 0)\n",
    "    >>> f2 = f1(12, 9)\n",
    "    9 point(s)! The most yet for Player 1\n",
    "    >>> f3 = f2(20, 9)\n",
    "    >>> f4 = f3(20, 30)\n",
    "    21 point(s)! The most yet for Player 1\n",
    "    >>> f5 = f4(20, 47) # Player 1 gets 17 points; not enough for a new high\n",
    "    >>> f6 = f5(21, 47)\n",
    "    >>> f7 = f6(21, 77)\n",
    "    30 point(s)! The most yet for Player 1\n",
    "    \"\"\"\n",
    "    assert who == 0 or who == 1, 'The who argument should indicate a player.'\n",
    "    # BEGIN PROBLEM 7\n",
    "    \"*** YOUR CODE HERE ***\"\n",
    "    def say(score0, score1):\n",
    "        #nonlocal last_score, running_high\n",
    "        inner_last_score, inner_running_high = last_score, running_high\n",
    "        score = score0 if who == 0 else score1\n",
    "        diff = score - last_score\n",
    "        inner_last_score = score\n",
    "        if running_high >= diff:\n",
    "            pass\n",
    "        else:\n",
    "            inner_running_high = diff\n",
    "            print(f\"{diff} point(s)! The most yet for Player {who}\")\n",
    "        return announce_highest(who, last_score=inner_last_score, running_high=inner_running_high)\n",
    "        #return say\n",
    "    return say\n",
    "    # END PROBLEM 7\n",
    "\n",
    "\"\"\"\n",
    "f0 = announce_highest(1) # Only announce Player 1 score gains\n",
    "f1 = f0(12, 0)\n",
    "f2 = f1(12, 9)\n",
    "#9 point(s)! The most yet for Player 1\n",
    "f3 = f2(20, 9)\n",
    "f4 = f3(20, 30)\n",
    "#21 point(s)! The most yet for Player 1\n",
    "f5 = f4(20, 47) # Player 1 gets 17 points; not enough for a new high\n",
    "f6 = f5(21, 47)\n",
    "f7 = f6(21, 77)\n",
    "#30 point(s)! The most yet for Player 1\n",
    "f0(12, 10)\n",
    "\"\"\"\n",
    "\n",
    "f0 = announce_highest(1) # Only announce Player 1 score gains\n",
    "f1 = f0(12, 0)\n",
    "f2 = f1(12, 10)\n",
    "f3 = f2(20, 10)\n",
    "f4 = f3(22, 20)\n",
    "f5 = f4(22, 35)\n",
    "f2_again = f1(12, 9)"
   ]
  },
  {
   "cell_type": "code",
   "execution_count": 21,
   "metadata": {},
   "outputs": [
    {
     "name": "stdout",
     "output_type": "stream",
     "text": [
      "x=1, y=-1\n",
      "x=2, y=-2\n",
      "x=3, y=-3\n",
      "x=4, y=-4\n",
      "x=5, y=-5\n",
      "x=6, y=-7\n",
      "x=7, y=-2\n"
     ]
    },
    {
     "data": {
      "text/plain": [
       "<function __main__.outter.<locals>.inner(y)>"
      ]
     },
     "execution_count": 21,
     "metadata": {},
     "output_type": "execute_result"
    }
   ],
   "source": [
    "def outter(x):\n",
    "    def inner(y):\n",
    "        nonlocal x\n",
    "        print(f\"x={x}, y={y}\")\n",
    "        x += 1\n",
    "        return inner\n",
    "        #return outter(x)\n",
    "    return inner\n",
    "\n",
    "f0 = outter(1)\n",
    "f1 = f0(-1)\n",
    "f2 = f1(-2)\n",
    "f3 = f2(-3)\n",
    "f0(-4), f0(-5), f0(-7)\n",
    "f1(-2)"
   ]
  },
  {
   "cell_type": "code",
   "execution_count": null,
   "metadata": {},
   "outputs": [],
   "source": [
    "def announce_highest(who, last_score=0, running_high=0):\n",
    "    \n",
    "    assert who == 0 or who == 1, 'The who argument should indicate a player.'\n",
    "    # BEGIN PROBLEM 7\n",
    "    \"*** YOUR CODE HERE ***\"\n",
    "    def say(score0, score1):\n",
    "        #nonlocal last_score, running_high\n",
    "        inner_last_score, inner_running_high = last_score, running_high\n",
    "        score = score0 if who == 0 else score1\n",
    "        diff = score - last_score\n",
    "        inner_last_score = score\n",
    "        if running_high >= diff:\n",
    "            pass\n",
    "        else:\n",
    "            inner_running_high = diff\n",
    "            print(f\"{diff} point(s)! The most yet for Player {who}\")\n",
    "        return announce_highest(who, last_score=inner_last_score, running_high=inner_running_high)\n",
    "        #return say\n",
    "    return say\n",
    "    # END PROBLEM 7\n",
    "\n",
    "f0 = announce_highest(1) # Only announce Player 1 score gains\n",
    "f1 = f0(12, 0)\n",
    "f2 = f1(12, 10)\n",
    "f3 = f2(20, 10)\n",
    "f4 = f3(22, 20)\n",
    "f5 = f4(22, 35)\n",
    "f2_again = f1(12, 9)"
   ]
  },
  {
   "cell_type": "code",
   "execution_count": 3,
   "metadata": {},
   "outputs": [
    {
     "name": "stdout",
     "output_type": "stream",
     "text": [
      "1000\n",
      "None\n"
     ]
    }
   ],
   "source": [
    "print_lambda = lambda z: print(z)\n",
    "one_thousand = print_lambda(1000)\n",
    "print(one_thousand)"
   ]
  },
  {
   "cell_type": "code",
   "execution_count": null,
   "metadata": {},
   "outputs": [],
   "source": [
    "def lambda_curry2(func):\n",
    "    def g(x):\n",
    "        def h(y):\n",
    "            return func(x, y)\n",
    "        return h\n",
    "    return g"
   ]
  },
  {
   "cell_type": "code",
   "execution_count": 72,
   "metadata": {},
   "outputs": [
    {
     "data": {
      "text/plain": [
       "-2"
      ]
     },
     "execution_count": 72,
     "metadata": {},
     "output_type": "execute_result"
    }
   ],
   "source": [
    "def num_eights(x):\n",
    "    \"\"\"Returns the number of times 8 appears as a digit of x.\n",
    "\n",
    "    >>> num_eights(3)\n",
    "    0\n",
    "    >>> num_eights(8)\n",
    "    1\n",
    "    >>> num_eights(88888888)\n",
    "    8\n",
    "    >>> num_eights(2638)\n",
    "    1\n",
    "    >>> num_eights(86380)\n",
    "    2\n",
    "    >>> num_eights(12345)\n",
    "    0\n",
    "    >>> from construct_check import check\n",
    "    >>> # ban all assignment statements\n",
    "    >>> check(HW_SOURCE_FILE, 'num_eights',\n",
    "    ...       ['Assign', 'AugAssign'])\n",
    "    True\n",
    "    \"\"\"\n",
    "    \"*** YOUR CODE HERE ***\"\n",
    "    if x < 10:\n",
    "        return int(x == 8)\n",
    "    else:\n",
    "        #RECURSION\n",
    "        return num_eights(x // 10) + num_eights(x % 10)\n",
    "\n",
    "from functools import cache\n",
    "\n",
    "@cache\n",
    "def pingpong(n):\n",
    "    \"\"\"Return the nth element of the ping-pong sequence.\n",
    "\n",
    "    >>> pingpong(8)\n",
    "    8\n",
    "    >>> pingpong(10)\n",
    "    6\n",
    "    >>> pingpong(15)\n",
    "    1\n",
    "    >>> pingpong(21)\n",
    "    -1\n",
    "    >>> pingpong(22)\n",
    "    -2\n",
    "    >>> pingpong(30)\n",
    "    -2\n",
    "    >>> pingpong(68)\n",
    "    0\n",
    "    >>> pingpong(69)\n",
    "    -1\n",
    "    >>> pingpong(80)\n",
    "    0\n",
    "    >>> pingpong(81)\n",
    "    1\n",
    "    >>> pingpong(82)\n",
    "    0\n",
    "    >>> pingpong(100)\n",
    "    -6\n",
    "    >>> from construct_check import check\n",
    "    >>> # ban assignment statements\n",
    "    >>> check(HW_SOURCE_FILE, 'pingpong', ['Assign', 'AugAssign'])\n",
    "    True\n",
    "    \"\"\"\n",
    "    \"*** YOUR CODE HERE ***\"\n",
    "    if n == 1:\n",
    "        return 1\n",
    "    elif n == 2:\n",
    "        return 2\n",
    "    else:\n",
    "        #RECURSION\n",
    "        #print(f\"The sign is {1-2*(num_eights(n-1) or ((n-1) % 8 == 0))}\")\n",
    "        return pingpong(n-1) + ((1-2*(num_eights(n-1) or ((n-1) % 8 == 0))) * (pingpong(n-1)-pingpong(n-2)))\n",
    "    \n",
    "\n",
    "pingpong(30)"
   ]
  },
  {
   "cell_type": "code",
   "execution_count": 79,
   "metadata": {},
   "outputs": [
    {
     "name": "stdout",
     "output_type": "stream",
     "text": [
      "i=87\t1 1\n",
      "i=88\t0 0\n",
      "i=89\t3 1\n",
      "i=90\t0 0\n",
      "i=91\t-3 -1\n"
     ]
    },
    {
     "data": {
      "text/plain": [
       "-3"
      ]
     },
     "execution_count": 79,
     "metadata": {},
     "output_type": "execute_result"
    }
   ],
   "source": [
    "@cache\n",
    "def pingpong2(n):\n",
    "    \"\"\"Return the nth element of the ping-pong sequence.\n",
    "\n",
    "    >>> pingpong(8)\n",
    "    8\n",
    "    >>> pingpong(10)\n",
    "    6\n",
    "    >>> pingpong(15)\n",
    "    1\n",
    "    >>> pingpong(21)\n",
    "    -1\n",
    "    >>> pingpong(22)\n",
    "    -2\n",
    "    >>> pingpong(30)\n",
    "    -2\n",
    "    >>> pingpong(68)\n",
    "    0\n",
    "    >>> pingpong(69)\n",
    "    -1\n",
    "    >>> pingpong(80)\n",
    "    0\n",
    "    >>> pingpong(81)\n",
    "    1\n",
    "    >>> pingpong(82)\n",
    "    0\n",
    "    >>> pingpong(100)\n",
    "    -6\n",
    "    >>> from construct_check import check\n",
    "    >>> # ban assignment statements\n",
    "    >>> check(HW_SOURCE_FILE, 'pingpong', ['Assign', 'AugAssign'])\n",
    "    True\n",
    "    \"\"\"\n",
    "    \"*** YOUR CODE HERE ***\"\n",
    "    if num_eights(n-1) or ((n-1) % 8 == 0):\n",
    "        # switch signs\n",
    "        sign = -1\n",
    "    else:\n",
    "        sign = 1\n",
    "    #print(f\"n={n}, sign={sign}\")\n",
    "    if n == 1:\n",
    "        return 1\n",
    "    elif n == 2:\n",
    "        return 2\n",
    "    else:\n",
    "        #RECURSION\n",
    "        return pingpong2(n-1) + (sign * (pingpong2(n-1)-pingpong2(n-2)))\n",
    "    \n",
    "for i in range(87, 92):\n",
    "    print(f\"i={i}\", end='\\t')\n",
    "    print(pingpong(i), pingpong2(i))\n"
   ]
  },
  {
   "cell_type": "code",
   "execution_count": 1,
   "metadata": {},
   "outputs": [
    {
     "name": "stdout",
     "output_type": "stream",
     "text": [
      "2013\n",
      "201\n",
      "20\n",
      "2\n",
      "20\n",
      "201\n",
      "2013\n"
     ]
    }
   ],
   "source": [
    "def cascade(n):\n",
    "    if n < 10:\n",
    "        print(n)\n",
    "    else:\n",
    "        print(n)\n",
    "        cascade(n // 10)\n",
    "        print(n)\n",
    "    \n",
    "cascade(2013)"
   ]
  },
  {
   "cell_type": "code",
   "execution_count": 2,
   "metadata": {},
   "outputs": [
    {
     "name": "stdout",
     "output_type": "stream",
     "text": [
      "Bob won!\n"
     ]
    }
   ],
   "source": [
    "def play_alice(n):\n",
    "    if n == 0:\n",
    "        print(\"Bob won!\")\n",
    "    else:\n",
    "        play_bob(n-1)\n",
    "        \n",
    "def play_bob(n):\n",
    "    if n == 0:\n",
    "        print(\"Alice won!\")\n",
    "    else:\n",
    "        if n % 2 == 0:\n",
    "            # even\n",
    "            play_alice(n-2)\n",
    "        else:\n",
    "            play_alice(n-1)\n",
    "            \n",
    "play_alice(20)"
   ]
  },
  {
   "cell_type": "code",
   "execution_count": 8,
   "metadata": {},
   "outputs": [
    {
     "data": {
      "text/plain": [
       "176"
      ]
     },
     "execution_count": 8,
     "metadata": {},
     "output_type": "execute_result"
    }
   ],
   "source": [
    "def count_partitions(n, m):\n",
    "    \"\"\"Count the number of ways to partition n using numbers up to m\"\"\"\n",
    "    if n == 0:\n",
    "        return 1\n",
    "    if n == 1:\n",
    "        return 1\n",
    "    if m == 0:\n",
    "        return 0\n",
    "    if n < 0:\n",
    "        return 0\n",
    "    \n",
    "    return count_partitions(n-m, m) + count_partitions(n, m-1)\n",
    "\n",
    "count_partitions(15, 15)"
   ]
  },
  {
   "cell_type": "code",
   "execution_count": 13,
   "metadata": {},
   "outputs": [
    {
     "data": {
      "text/plain": [
       "(6, 4, 242)"
      ]
     },
     "execution_count": 13,
     "metadata": {},
     "output_type": "execute_result"
    }
   ],
   "source": [
    "def next_largest_coin(coin):\n",
    "    \"\"\"Return the next coin. \n",
    "    >>> next_largest_coin(1)\n",
    "    5\n",
    "    >>> next_largest_coin(5)\n",
    "    10\n",
    "    >>> next_largest_coin(10)\n",
    "    25\n",
    "    >>> next_largest_coin(2) # Other values return None\n",
    "    \"\"\"\n",
    "    if coin == 1:\n",
    "        return 5\n",
    "    elif coin == 5:\n",
    "        return 10\n",
    "    elif coin == 10:\n",
    "        return 25\n",
    "\n",
    "\n",
    "def count_coins(total):\n",
    "    \"\"\"Return the number of ways to make change for total using coins of value of 1, 5, 10, 25.\n",
    "    >>> count_coins(15)\n",
    "    6\n",
    "    >>> count_coins(10)\n",
    "    4\n",
    "    >>> count_coins(20)\n",
    "    9\n",
    "    >>> count_coins(100) # How many ways to make change for a dollar?\n",
    "    242\n",
    "    >>> from construct_check import check\n",
    "    >>> # ban iteration\n",
    "    >>> check(HW_SOURCE_FILE, 'count_coins', ['While', 'For'])                                          \n",
    "    True\n",
    "    \"\"\"\n",
    "    \"*** YOUR CODE HERE ***\"\n",
    "\n",
    "    def count_restrains_smallest(n, smallest_coin):\n",
    "        if n == 0:\n",
    "            # able to count\n",
    "            return 1\n",
    "        elif smallest_coin is None:\n",
    "            return 0\n",
    "        elif n < 0:\n",
    "            # can not count\n",
    "            return 0\n",
    "        else:\n",
    "            #RECURSION\n",
    "            without_this_coin = count_restrains_smallest(n, next_largest_coin(smallest_coin))\n",
    "            with_this_coin = count_restrains_smallest(n-smallest_coin, smallest_coin)\n",
    "            \n",
    "            return without_this_coin + with_this_coin\n",
    "        \n",
    "    return count_restrains_smallest(total, 1)"
   ]
  },
  {
   "cell_type": "code",
   "execution_count": 15,
   "metadata": {},
   "outputs": [
    {
     "data": {
      "text/plain": [
       "6"
      ]
     },
     "execution_count": 15,
     "metadata": {},
     "output_type": "execute_result"
    }
   ],
   "source": [
    "def make_anonymous_factorial():\n",
    "    \"\"\"Return the value of an expression that computes factorial.\n",
    "\n",
    "    >>> make_anonymous_factorial()(5)\n",
    "    120\n",
    "    >>> from construct_check import check\n",
    "    >>> # ban any assignments or recursion\n",
    "    >>> check(HW_SOURCE_FILE, 'make_anonymous_factorial', ['Assign', 'AugAssign', 'FunctionDef', 'Recursion'])\n",
    "    True\n",
    "    \"\"\"\n",
    "    return lambda n: 1 if n == 1 else n*make_anonymous_factorial()(n-1)\n",
    "\n",
    "make_anonymous_factorial()(3)"
   ]
  }
 ],
 "metadata": {
  "kernelspec": {
   "display_name": "torch",
   "language": "python",
   "name": "python3"
  },
  "language_info": {
   "codemirror_mode": {
    "name": "ipython",
    "version": 3
   },
   "file_extension": ".py",
   "mimetype": "text/x-python",
   "name": "python",
   "nbconvert_exporter": "python",
   "pygments_lexer": "ipython3",
   "version": "3.9.18"
  }
 },
 "nbformat": 4,
 "nbformat_minor": 2
}
